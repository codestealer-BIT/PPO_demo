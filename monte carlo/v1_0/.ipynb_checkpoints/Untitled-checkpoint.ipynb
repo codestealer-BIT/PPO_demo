{
 "cells": [
  {
   "cell_type": "code",
   "execution_count": 1,
   "id": "9300503a-d3e9-46f2-9b46-798058c5f92c",
   "metadata": {},
   "outputs": [
    {
     "name": "stdout",
     "output_type": "stream",
     "text": [
      "no change     /Users/didi/opt/anaconda3/condabin/conda\n",
      "no change     /Users/didi/opt/anaconda3/bin/conda\n",
      "no change     /Users/didi/opt/anaconda3/bin/conda-env\n",
      "no change     /Users/didi/opt/anaconda3/bin/activate\n",
      "no change     /Users/didi/opt/anaconda3/bin/deactivate\n",
      "no change     /Users/didi/opt/anaconda3/etc/profile.d/conda.sh\n",
      "no change     /Users/didi/opt/anaconda3/etc/fish/conf.d/conda.fish\n",
      "no change     /Users/didi/opt/anaconda3/shell/condabin/Conda.psm1\n",
      "no change     /Users/didi/opt/anaconda3/shell/condabin/conda-hook.ps1\n",
      "no change     /Users/didi/opt/anaconda3/lib/python3.10/site-packages/xontrib/conda.xsh\n",
      "no change     /Users/didi/opt/anaconda3/etc/profile.d/conda.csh\n",
      "no change     /Users/didi/.bash_profile\n",
      "No action taken.\n"
     ]
    }
   ],
   "source": [
    "!conda init"
   ]
  },
  {
   "cell_type": "code",
   "execution_count": 3,
   "id": "a9f22c5f-ce72-4319-af48-90313c23e8a9",
   "metadata": {},
   "outputs": [
    {
     "name": "stdout",
     "output_type": "stream",
     "text": [
      "\n",
      "CondaError: Run 'conda init' before 'conda activate'\n",
      "\n"
     ]
    }
   ],
   "source": [
    "!conda activate env_ppodemo"
   ]
  },
  {
   "cell_type": "code",
   "execution_count": 7,
   "id": "81050416-c02b-4926-a401-a3adf23bd939",
   "metadata": {},
   "outputs": [
    {
     "ename": "ModuleNotFoundError",
     "evalue": "No module named 'torch'",
     "output_type": "error",
     "traceback": [
      "\u001b[0;31m---------------------------------------------------------------------------\u001b[0m",
      "\u001b[0;31mModuleNotFoundError\u001b[0m                       Traceback (most recent call last)",
      "Cell \u001b[0;32mIn[7], line 2\u001b[0m\n\u001b[1;32m      1\u001b[0m \u001b[38;5;66;03m# import gym\u001b[39;00m\n\u001b[0;32m----> 2\u001b[0m \u001b[38;5;28;01mimport\u001b[39;00m \u001b[38;5;21;01mtorch\u001b[39;00m\n\u001b[1;32m      3\u001b[0m \u001b[38;5;28;01mimport\u001b[39;00m \u001b[38;5;21;01mmatplotlib\u001b[39;00m\u001b[38;5;21;01m.\u001b[39;00m\u001b[38;5;21;01mpyplot\u001b[39;00m \u001b[38;5;28;01mas\u001b[39;00m \u001b[38;5;21;01mplt\u001b[39;00m\n\u001b[1;32m      4\u001b[0m \u001b[38;5;28;01mimport\u001b[39;00m \u001b[38;5;21;01mnumpy\u001b[39;00m \u001b[38;5;28;01mas\u001b[39;00m \u001b[38;5;21;01mnp\u001b[39;00m\n",
      "\u001b[0;31mModuleNotFoundError\u001b[0m: No module named 'torch'"
     ]
    }
   ],
   "source": [
    "\n",
    "import gym\n",
    "import torch\n",
    "import matplotlib.pyplot as plt\n",
    "import numpy as np\n",
    "from ppo import PPO\n",
    "from online_collect import online_collect\n",
    "from rl_utils import moving_average"
   ]
  },
  {
   "cell_type": "code",
   "execution_count": null,
   "id": "f3933bc5-a0a1-496a-bf0a-5b698d361d64",
   "metadata": {},
   "outputs": [],
   "source": [
    " actor_lr = 1e-3\n",
    "critic_lr = 1e-2#面对复杂任务时，这个值最好降低，调到过3e-4，但是结果不是很理想\n",
    "hidden_dim = 128\n",
    "gamma = 0.99#平衡过程奖励和结果奖励\n",
    "lmbda = 0.95\n",
    "epochs = 3#原来是10\n",
    "eps = 0.2 \n",
    "minibatch_size=256#面对复杂任务时，这个值最好变大，详情可见ppo原文，update耗时很严重\n",
    "device = torch.device(\"cuda\") if torch.cuda.is_available() else torch.device(\n",
    "    \"cpu\")\n",
    "fixed_epi=10#改的是这个\n",
    "env_name = 'Pong-ram-v0'\n",
    "env = gym.make(env_name)\n",
    "env.seed(0)\n",
    "torch.manual_seed(0)\n",
    "state_dim = env.observation_space.shape[0]\n",
    "action_dim = env.action_space.n\n",
    "agent = PPO(state_dim, hidden_dim, action_dim, actor_lr, critic_lr, lmbda,\n",
    "            epochs, eps, gamma, minibatch_size,device)\n",
    "return_list = []"
   ]
  },
  {
   "cell_type": "code",
   "execution_count": null,
   "id": "b73741fe-6335-4a94-a2d3-e9b0a9a7af0c",
   "metadata": {},
   "outputs": [],
   "source": [
    "for i in range(2000):\n",
    "    transition_dict=online_collect(agent,env,fixed_epi,return_list,gamma)\n",
    "    agent.offline_train(transition_dict)\n",
    "    print(f\"iteration{i}: average return of last 100 episodes is {np.mean(return_list[-10:])}\")"
   ]
  },
  {
   "cell_type": "code",
   "execution_count": null,
   "id": "5f1ae2a5-6624-43a3-823b-96952f7113eb",
   "metadata": {},
   "outputs": [],
   "source": [
    "agent.save()\n",
    "\n",
    "episodes_list = list(range(len(return_list)))\n",
    "plt.plot(episodes_list, return_list)\n",
    "plt.xlabel('Episodes')\n",
    "plt.ylabel('Returns')\n",
    "plt.title('PPO on {}'.format(env_name))\n",
    "plt.show()\n",
    "\n",
    "mv_return = moving_average(return_list, 9)\n",
    "plt.plot(episodes_list, mv_return)\n",
    "plt.xlabel('Episodes')\n",
    "plt.ylabel('Returns')\n",
    "plt.title('PPO on {}'.format(env_name))\n",
    "plt.show()"
   ]
  },
  {
   "cell_type": "code",
   "execution_count": null,
   "id": "263d3e39-a648-4fd2-b863-0d59dc206d4a",
   "metadata": {},
   "outputs": [],
   "source": [
    " # 渲染模型的表现\n",
    "num_episodes = 50  # 渲染的轮次\n",
    "for episode in range(num_episodes):\n",
    "    state = env.reset()\n",
    "    done = False\n",
    "    while not done:\n",
    "        env.render()  # 渲染当前环境\n",
    "        state=state.astype(np.float32)\n",
    "        state/=255\n",
    "        action = agent.take_action(state)  # 使用训练好的代理选择动作\n",
    "        state, reward, done, _ = env.step(action)  # 执行动作\n",
    "    print(f\"Episode {episode + 1} finished.\")\n",
    "\n",
    "env.close()  # 关闭环境"
   ]
  },
  {
   "cell_type": "code",
   "execution_count": null,
   "id": "799e256b-bcf8-42a7-8694-2057d1ca80a6",
   "metadata": {},
   "outputs": [],
   "source": [
    "\n",
    "\n"
   ]
  }
 ],
 "metadata": {
  "kernelspec": {
   "display_name": "Python [conda env:base] *",
   "language": "python",
   "name": "conda-base-py"
  },
  "language_info": {
   "codemirror_mode": {
    "name": "ipython",
    "version": 3
   },
   "file_extension": ".py",
   "mimetype": "text/x-python",
   "name": "python",
   "nbconvert_exporter": "python",
   "pygments_lexer": "ipython3",
   "version": "3.10.16"
  }
 },
 "nbformat": 4,
 "nbformat_minor": 5
}
