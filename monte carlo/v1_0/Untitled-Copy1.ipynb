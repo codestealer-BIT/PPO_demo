{
 "cells": [
  {
   "cell_type": "code",
   "execution_count": 1,
   "id": "81050416-c02b-4926-a401-a3adf23bd939",
   "metadata": {},
   "outputs": [],
   "source": [
    "\n",
    "import gym\n",
    "import torch\n",
    "import matplotlib.pyplot as plt\n",
    "import numpy as np\n",
    "from ppo import PPO\n",
    "from online_collect import online_collect\n",
    "from rl_utils import moving_average"
   ]
  },
  {
   "cell_type": "code",
   "execution_count": 2,
   "id": "f3933bc5-a0a1-496a-bf0a-5b698d361d64",
   "metadata": {},
   "outputs": [],
   "source": [
    " actor_lr = 1e-4\n",
    "critic_lr = 1e-4#面对复杂任务时，这个值最好降低，调到过3e-4，但是结果不是很理想\n",
    "hidden_dim = 128\n",
    "gamma = 0.99#平衡过程奖励和结果奖励\n",
    "lmbda = 0.95\n",
    "epochs = 3#原来是10\n",
    "eps = 0.2 \n",
    "minibatch_size=256#面对复杂任务时，这个值最好变大，详情可见ppo原文，update耗时很严重\n",
    "device = torch.device(\"cuda\") if torch.cuda.is_available() else torch.device(\n",
    "    \"cpu\")\n",
    "fixed_epi=10#改的是这个\n",
    "env_name = 'Pong-ram-v0'\n",
    "env = gym.make(env_name)\n",
    "env.seed(0)\n",
    "torch.manual_seed(0)\n",
    "state_dim = env.observation_space.shape[0]\n",
    "action_dim = env.action_space.n\n",
    "agent = PPO(state_dim, hidden_dim, action_dim, actor_lr, critic_lr, lmbda,\n",
    "            epochs, eps, gamma, minibatch_size,device)\n",
    "return_list = []"
   ]
  },
  {
   "cell_type": "code",
   "execution_count": 3,
   "id": "5c2d05ef-d790-4511-ae6a-e6e3a601759c",
   "metadata": {},
   "outputs": [],
   "source": [
    "def online_collect(agent,env,fixed_epi,return_list,gamma):\n",
    "    transition_dict = {'states': [], 'actions': [], 'next_states': [], 'rewards': [], 'dones': [],'returns':[]}\n",
    "    total_epi=0\n",
    "    episode_return = []\n",
    "    state = env.reset()\n",
    "    done = False\n",
    "    while total_epi<fixed_epi:\n",
    "        state=state.astype(np.float32)\n",
    "        state/=255\n",
    "        action = agent.take_action(state)\n",
    "        next_state, reward, done, _ = env.step(action)\n",
    "        transition_dict['states'].append(state)\n",
    "        transition_dict['actions'].append(action)\n",
    "        transition_dict['next_states'].append(next_state)\n",
    "        transition_dict['rewards'].append(reward)\n",
    "        transition_dict['dones'].append(done)\n",
    "        state = next_state\n",
    "        episode_return.append(reward)\n",
    "        if done:\n",
    "            total_epi+=1\n",
    "            return_list.append(sum(episode_return))\n",
    "            returns=compute_returns(episode_return,gamma)\n",
    "            transition_dict['returns'].extend(returns)\n",
    "            episode_return = []\n",
    "            state = env.reset()\n",
    "            done = False\n",
    "    return transition_dict\n",
    "    "
   ]
  },
  {
   "cell_type": "code",
   "execution_count": 4,
   "id": "b73741fe-6335-4a94-a2d3-e9b0a9a7af0c",
   "metadata": {},
   "outputs": [
    {
     "name": "stderr",
     "output_type": "stream",
     "text": [
      "/Users/didi/Desktop/demo_ppo/monte carlo/v1_0/ppo.py:45: UserWarning: Creating a tensor from a list of numpy.ndarrays is extremely slow. Please consider converting the list to a single numpy.ndarray with numpy.array() before converting to a tensor. (Triggered internally at /Users/runner/work/pytorch/pytorch/pytorch/torch/csrc/utils/tensor_new.cpp:281.)\n",
      "  state = torch.tensor([state], dtype=torch.float).to(self.device)\n"
     ]
    },
    {
     "ename": "NameError",
     "evalue": "name 'compute_returns' is not defined",
     "output_type": "error",
     "traceback": [
      "\u001b[0;31m---------------------------------------------------------------------------\u001b[0m",
      "\u001b[0;31mNameError\u001b[0m                                 Traceback (most recent call last)",
      "Cell \u001b[0;32mIn[4], line 2\u001b[0m\n\u001b[1;32m      1\u001b[0m \u001b[38;5;28;01mfor\u001b[39;00m i \u001b[38;5;129;01min\u001b[39;00m \u001b[38;5;28mrange\u001b[39m(\u001b[38;5;241m2000\u001b[39m):\n\u001b[0;32m----> 2\u001b[0m     transition_dict\u001b[38;5;241m=\u001b[39m\u001b[43monline_collect\u001b[49m\u001b[43m(\u001b[49m\u001b[43magent\u001b[49m\u001b[43m,\u001b[49m\u001b[43menv\u001b[49m\u001b[43m,\u001b[49m\u001b[43mfixed_epi\u001b[49m\u001b[43m,\u001b[49m\u001b[43mreturn_list\u001b[49m\u001b[43m,\u001b[49m\u001b[43mgamma\u001b[49m\u001b[43m)\u001b[49m\n\u001b[1;32m      3\u001b[0m     agent\u001b[38;5;241m.\u001b[39moffline_train(transition_dict)\n\u001b[1;32m      4\u001b[0m     \u001b[38;5;28mprint\u001b[39m(\u001b[38;5;124mf\u001b[39m\u001b[38;5;124m\"\u001b[39m\u001b[38;5;124miteration\u001b[39m\u001b[38;5;132;01m{\u001b[39;00mi\u001b[38;5;132;01m}\u001b[39;00m\u001b[38;5;124m: average return of last 100 episodes is \u001b[39m\u001b[38;5;132;01m{\u001b[39;00mnp\u001b[38;5;241m.\u001b[39mmean(return_list[\u001b[38;5;241m-\u001b[39m\u001b[38;5;241m10\u001b[39m:])\u001b[38;5;132;01m}\u001b[39;00m\u001b[38;5;124m\"\u001b[39m)\n",
      "Cell \u001b[0;32mIn[3], line 22\u001b[0m, in \u001b[0;36monline_collect\u001b[0;34m(agent, env, fixed_epi, return_list, gamma)\u001b[0m\n\u001b[1;32m     20\u001b[0m total_epi\u001b[38;5;241m+\u001b[39m\u001b[38;5;241m=\u001b[39m\u001b[38;5;241m1\u001b[39m\n\u001b[1;32m     21\u001b[0m return_list\u001b[38;5;241m.\u001b[39mappend(\u001b[38;5;28msum\u001b[39m(episode_return))\n\u001b[0;32m---> 22\u001b[0m returns\u001b[38;5;241m=\u001b[39m\u001b[43mcompute_returns\u001b[49m(episode_return,gamma)\n\u001b[1;32m     23\u001b[0m transition_dict[\u001b[38;5;124m'\u001b[39m\u001b[38;5;124mreturns\u001b[39m\u001b[38;5;124m'\u001b[39m]\u001b[38;5;241m.\u001b[39mextend(returns)\n\u001b[1;32m     24\u001b[0m episode_return \u001b[38;5;241m=\u001b[39m []\n",
      "\u001b[0;31mNameError\u001b[0m: name 'compute_returns' is not defined"
     ]
    }
   ],
   "source": [
    "for i in range(2000):\n",
    "    transition_dict=online_collect(agent,env,fixed_epi,return_list,gamma)\n",
    "    agent.offline_train(transition_dict)\n",
    "    print(f\"iteration{i}: average return of last 100 episodes is {np.mean(return_list[-10:])}\")"
   ]
  },
  {
   "cell_type": "code",
   "execution_count": null,
   "id": "5f1ae2a5-6624-43a3-823b-96952f7113eb",
   "metadata": {},
   "outputs": [],
   "source": [
    "agent.save()\n",
    "\n",
    "episodes_list = list(range(len(return_list)))\n",
    "plt.plot(episodes_list, return_list)\n",
    "plt.xlabel('Episodes')\n",
    "plt.ylabel('Returns')\n",
    "plt.title('PPO on {}'.format(env_name))\n",
    "plt.show()\n",
    "\n",
    "mv_return = moving_average(return_list, 9)\n",
    "plt.plot(episodes_list, mv_return)\n",
    "plt.xlabel('Episodes')\n",
    "plt.ylabel('Returns')\n",
    "plt.title('PPO on {}'.format(env_name))\n",
    "plt.show()"
   ]
  },
  {
   "cell_type": "code",
   "execution_count": null,
   "id": "263d3e39-a648-4fd2-b863-0d59dc206d4a",
   "metadata": {},
   "outputs": [],
   "source": [
    " # 渲染模型的表现\n",
    "import time\n",
    "num_episodes = 1  # 渲染的轮次\n",
    "for episode in range(num_episodes):\n",
    "    state = env.reset()\n",
    "    done = False\n",
    "    while not done:\n",
    "        env.render()  # 渲染当前环境\n",
    "        time.sleep(0.05)\n",
    "        state=state.astype(np.float32)\n",
    "        state/=255\n",
    "        action = agent.take_action(state)  # 使用训练好的代理选择动作\n",
    "        state, reward, done, _ = env.step(action)  # 执行动作\n",
    "        print(reward)\n",
    "    print(f\"Episode {episode + 1} finished.\")\n",
    "\n",
    "env.close()  # 关闭环境"
   ]
  },
  {
   "cell_type": "code",
   "execution_count": null,
   "id": "799e256b-bcf8-42a7-8694-2057d1ca80a6",
   "metadata": {},
   "outputs": [],
   "source": [
    "\n",
    "\n"
   ]
  }
 ],
 "metadata": {
  "kernelspec": {
   "display_name": "Python 3 (ipykernel)",
   "language": "python",
   "name": "python3"
  },
  "language_info": {
   "codemirror_mode": {
    "name": "ipython",
    "version": 3
   },
   "file_extension": ".py",
   "mimetype": "text/x-python",
   "name": "python",
   "nbconvert_exporter": "python",
   "pygments_lexer": "ipython3",
   "version": "3.8.18"
  }
 },
 "nbformat": 4,
 "nbformat_minor": 5
}
